{
 "cells": [
  {
   "cell_type": "markdown",
   "metadata": {},
   "source": [
    "## Задание 1"
   ]
  },
  {
   "cell_type": "markdown",
   "metadata": {},
   "source": [
    "Дан список вида:"
   ]
  },
  {
   "cell_type": "code",
   "execution_count": 1,
   "metadata": {},
   "outputs": [],
   "source": [
    "data = [\n",
    "    [13, 25, 23, 34],\n",
    "    [45, 32, 44, 47],\n",
    "    [12, 33, 23, 95],\n",
    "    [13, 53, 34, 35]\n",
    "]"
   ]
  },
  {
   "cell_type": "code",
   "execution_count": 2,
   "metadata": {},
   "outputs": [
    {
     "name": "stdout",
     "output_type": "stream",
     "text": [
      "103\n"
     ]
    }
   ],
   "source": [
    "def diagonal(data):\n",
    "    sum_d = []\n",
    "    ind = 0\n",
    "    for lst in data:\n",
    "        sum_d.append(lst[ind])\n",
    "        ind += 1\n",
    "    return sum(sum_d)\n",
    "        \n",
    "\n",
    "print (diagonal(data))"
   ]
  },
  {
   "cell_type": "markdown",
   "metadata": {},
   "source": [
    "Напишите функцию, которая возвращает сумму элементов на диагонали. Т. е. 13+32+23+35.  \n",
    "Список может быть любой длины, но всегда является \"квадратным\" (количество элементов во вложенных списках равно их количеству)."
   ]
  },
  {
   "cell_type": "markdown",
   "metadata": {},
   "source": [
    "## Задание 2"
   ]
  },
  {
   "cell_type": "markdown",
   "metadata": {},
   "source": [
    "Напишите функцию, возвращающую сумму первых n чисел Фибоначчи (для этого вам может понадобится ознакомиться с рекурсией)."
   ]
  },
  {
   "cell_type": "code",
   "execution_count": 27,
   "metadata": {},
   "outputs": [
    {
     "name": "stdout",
     "output_type": "stream",
     "text": [
      "Количество знаков в последовательности: 10\n",
      "Сумма последовательности Фибоначчи:  88\n"
     ]
    }
   ],
   "source": [
    "def fib_seq():\n",
    "    num = int(input('Количество знаков в последовательности: '))\n",
    "    f1 = 0\n",
    "    f2 = 1\n",
    "    i = 2\n",
    "    fib_list=[0,1]\n",
    "    while i < num :\n",
    "        fib_sum = f1 + f2\n",
    "        f1 = f2\n",
    "        f2 = fib_sum\n",
    "        i =  i + 1\n",
    "        fib_list.append(fib_sum)\n",
    "    return sum(fib_list)\n",
    "    \n",
    "print('Сумма последовательности Фибоначчи: ', fib_seq())"
   ]
  },
  {
   "cell_type": "markdown",
   "metadata": {},
   "source": [
    "## Задание 3\n"
   ]
  },
  {
   "cell_type": "markdown",
   "metadata": {},
   "source": [
    "Напишите функцию, преобразующую произвольный список вида ['2018-01-01', 'yandex', 'cpc', 100] (он может быть любой длины) в словарь {'2018-01-01': {'yandex': {'cpc': 100}}}"
   ]
  },
  {
   "cell_type": "code",
   "execution_count": 16,
   "metadata": {},
   "outputs": [
    {
     "name": "stdout",
     "output_type": "stream",
     "text": [
      "{'2018-01-01': {'yandex': {'cpc': 100}}}\n"
     ]
    }
   ],
   "source": [
    "r_list = ['2018-01-01', 'yandex', 'cpc', 100]\n",
    "def list_to_dict(r_list):\n",
    "    x = 0\n",
    "    while x <= len(r_list) + 1:\n",
    "        newdict = dict(zip(r_list[-2:], r_list[-1:]))\n",
    "        del(r_list[-2])\n",
    "        del(r_list[-1:])\n",
    "        r_list.append(newdict)\n",
    "        x += 1  \n",
    "    return r_list[0]\n",
    "         \n",
    "print(list_to_dict(r_list))"
   ]
  },
  {
   "cell_type": "markdown",
   "metadata": {},
   "source": [
    "## Задание 4"
   ]
  },
  {
   "cell_type": "markdown",
   "metadata": {},
   "source": [
    "Вы работаете секретарем и вам постоянно приходят различные документы. Вы должны быть очень внимательны, чтобы не потерять ни один документ. Каталог документов хранится в следующем виде:"
   ]
  },
  {
   "cell_type": "code",
   "execution_count": 2,
   "metadata": {},
   "outputs": [],
   "source": [
    "documents = [\n",
    "    {'type': 'passport', 'number': '2207 876234', 'name': 'Василий Гупкин'},\n",
    "    {'type': 'invoice', 'number': '11-2', 'name': 'Геннадий Покемонов'},\n",
    "    {'type': 'insurance', 'number': '10006', 'name': 'Аристарх Павлов'}\n",
    "]"
   ]
  },
  {
   "cell_type": "markdown",
   "metadata": {},
   "source": [
    "Перечень полок, на которых находятся документы хранится в следующем виде:"
   ]
  },
  {
   "cell_type": "code",
   "execution_count": 3,
   "metadata": {},
   "outputs": [],
   "source": [
    "directories = {\n",
    "    '1': ['2207 876234', '11-2', '5455 028765'],\n",
    "    '2': ['10006', '5400 028765', '5455 002299'],\n",
    "    '3': []\n",
    "}"
   ]
  },
  {
   "cell_type": "markdown",
   "metadata": {},
   "source": [
    "Необходимо реализовать пользовательские команды (внимание! это не название функций, которые должны быть выразительными, а команды, которые вводит пользователь, чтобы получить необходимый результат):\n",
    "  \n",
    "- p – people – команда, которая спросит номер документа и выведет имя человека, которому он принадлежит;  \n",
    "- s – shelf – команда, которая спросит номер документа и выведет номер полки, на которой он находится  \n",
    "Правильно обработайте ситуацию, когда пользователь будет вводить несуществующий документ.\n",
    "- l – list – команда, которая выведет список всех документов в формате   \n",
    "**passport \"2207 876234\" \"Василий Гупкин\"**  \n",
    "- as – add shelf – команда, которая спросит номер новой полки и добавит ее в перечень\n",
    "- d – delete – команда, которая спросит номер документа и удалит его из каталога и из перечня полок. Предусмотрите сценарий, когда пользователь вводит несуществующий документ;  \n",
    "- m – move – команда, которая спросит номер документа и целевую полку и переместит его с текущей полки на целевую. Корректно обработайте кейсы, когда пользователь пытается переместить несуществующий документ или переместить документ на несуществующую полку;  \n",
    "- a – add – команда, которая добавит новый документ в каталог и в перечень полок, спросив его номер, тип, имя владельца и номер полки, на котором он будет храниться."
   ]
  },
  {
   "cell_type": "code",
   "execution_count": 4,
   "metadata": {},
   "outputs": [
    {
     "name": "stdout",
     "output_type": "stream",
     "text": [
      "Введите команду: p/s/l/as/d/m/a, для выхода из программы, нажмите любую другую клавишу p\n",
      "Введите номер документа: 11-2\n",
      "Геннадий Покемонов\n",
      "Введите команду: p/s/l/as/d/m/a, для выхода из программы, нажмите любую другую клавишу s\n",
      "Введите номер документа: 11-2\n",
      "Документ на полке № 1\n",
      "Введите команду: p/s/l/as/d/m/a, для выхода из программы, нажмите любую другую клавишу l\n",
      "passport \"2207 876234\" \"Василий Гупкин\"\n",
      "invoice \"11-2\" \"Геннадий Покемонов\"\n",
      "insurance \"10006\" \"Аристарх Павлов\"\n",
      "Введите команду: p/s/l/as/d/m/a, для выхода из программы, нажмите любую другую клавишу r\n",
      "Допустимы только команды из перечня p/s/l/as/d/m/a. Работа завершена.\n"
     ]
    },
    {
     "data": {
      "text/plain": [
       "True"
      ]
     },
     "execution_count": 4,
     "metadata": {},
     "output_type": "execute_result"
    }
   ],
   "source": [
    "def people(doc_number, directories):\n",
    "    for doc in documents:\n",
    "        for key, value in doc.items():\n",
    "            if doc['number'] == doc_number:\n",
    "                return doc['name']\n",
    "    return 'Такого документа нет'             \n",
    "\n",
    "def shelf(doc_number, directories):\n",
    "    for key, value in directories.items():\n",
    "        for i in value:\n",
    "            if i == doc_number:\n",
    "                return 'Документ на полке № {}'.format(key)\n",
    "    return 'Такого документа нет' \n",
    "\n",
    "def get_docs_list(documsents, directories):\n",
    "    for docs in documents:\n",
    "        print(docs['type']+' \"'+docs['number']+'\" \"'+docs['name']+'\"')\n",
    "\n",
    "\n",
    "def add_shelf(new_shelf, directories):\n",
    "    if directories.get(new_shelf):\n",
    "        print('Такая полка уже существует!')\n",
    "    else:\n",
    "        directories[new_shelf]=[]\n",
    "        print('Новая полка добавлена.\\nОбщий список: ',directories)\n",
    "    return True   \n",
    " \n",
    "def delete_doc(doc_number, documents, directories):\n",
    "    doc_exist = 0\n",
    "    for docs in documents:\n",
    "        if doc_number in docs['number']:\n",
    "            doc_exist = 1\n",
    "    if not doc_exist:\n",
    "        print('Такого номера документа не существует!')\n",
    "        return False\n",
    "    i = 1\n",
    "    for docs in documents:\n",
    "        if docs['number'] == doc_number:        \n",
    "            for key, value in directories.items():\n",
    "                if docs['number'] in value:\n",
    "                    value.remove(docs['number'])\n",
    "                    print('Документ удален с полки', key)\n",
    "            print('Документ',documents.pop(i),'удален')\n",
    "            i += 1\n",
    "    return True\n",
    "\n",
    "def move_doc(documents, directories):\n",
    "    doc_number = input('Введите номер документа для перемещения: ')\n",
    "    doc_shelf = input('Введите номер полки для перемещения документа: ')\n",
    "    doc_exist = 0\n",
    "    for docs in documents:\n",
    "        if doc_number in docs['number']:\n",
    "            doc_exist = 1\n",
    "    if not doc_exist:\n",
    "        print('Такого номера документа не существует!')\n",
    "        return False\n",
    "    if doc_shelf not in directories:\n",
    "        print('Такой полки для перемещения документа не существует!')\n",
    "        return False\n",
    "    for docs in documents:\n",
    "        if docs['number'] == doc_number:        \n",
    "            for key, value in directories.items():\n",
    "                if docs['number'] in value:\n",
    "                    value.remove(docs['number'])\n",
    "                    directories[doc_shelf].append(docs['number'])\n",
    "                    print('Документ удален с полки', key, 'и перемещен на полку', doc_shelf)\n",
    "                    return True\n",
    "    return True    \n",
    "\n",
    "def add_doc(documents, directories):\n",
    "    doc_number = input('Введите номер документа: ')\n",
    "    doc_type = input('Введите тип документа: ')\n",
    "    doc_name = input('Введите имя владельца: ')\n",
    "    print('Кол-во полок на данный момент - {}'.format(len(directories)))\n",
    "    shelf_number = input('На какую полку положить документ? ')\n",
    "    dict_ = {}\n",
    "    documents.append(dict_)\n",
    "    dict_['type'] = doc_type\n",
    "    dict_['number'] = doc_number\n",
    "    dict_['name'] = doc_name\n",
    "    for key, value in directories.items():\n",
    "        if key == shelf_number:\n",
    "            value.append(doc_number)\n",
    "            return documents, directories\n",
    "        elif int(shelf_number) > len(directories):\n",
    "            return 'Такой полки не существует'\n",
    "\n",
    "    \n",
    "def main():\n",
    "    while True:\n",
    "        inp = input('Введите команду: p/s/l/as/d/m/a, для выхода из программы, нажмите любую другую клавишу ')\n",
    "        if inp == 'p':\n",
    "            print(people(input('Введите номер документа: '), directories))\n",
    "        elif inp == 's':\n",
    "            print(shelf(input('Введите номер документа: '), directories))\n",
    "        elif inp == 'l':\n",
    "            get_docs_list(documents, directories)\n",
    "        elif inp == 'as':\n",
    "            add_shelf(input('Введите номер новой полки: '), directories)\n",
    "        elif inp == 'd':\n",
    "            delete_doc(input('Введите номер документа для удаления: '), documents, directories)\n",
    "        elif inp == 'm':\n",
    "            move_doc(documents, directories)\n",
    "        elif inp == 'a':\n",
    "            add_doc(documents, directories)\n",
    "        else:\n",
    "            print(f'Допустимы только команды из перечня p/s/l/as/d/m/a. Работа завершена.')\n",
    "            break\n",
    "    return True\n",
    "main()"
   ]
  },
  {
   "cell_type": "code",
   "execution_count": null,
   "metadata": {},
   "outputs": [],
   "source": []
  }
 ],
 "metadata": {
  "kernelspec": {
   "display_name": "Python 3",
   "language": "python",
   "name": "python3"
  },
  "language_info": {
   "codemirror_mode": {
    "name": "ipython",
    "version": 3
   },
   "file_extension": ".py",
   "mimetype": "text/x-python",
   "name": "python",
   "nbconvert_exporter": "python",
   "pygments_lexer": "ipython3",
   "version": "3.7.4"
  }
 },
 "nbformat": 4,
 "nbformat_minor": 2
}
